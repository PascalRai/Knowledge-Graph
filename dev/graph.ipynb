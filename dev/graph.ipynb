{
 "cells": [
  {
   "cell_type": "code",
   "execution_count": 1,
   "metadata": {},
   "outputs": [],
   "source": [
    "import requests\n",
    "from bs4 import BeautifulSoup"
   ]
  },
  {
   "cell_type": "code",
   "execution_count": 2,
   "metadata": {},
   "outputs": [],
   "source": [
    "url1 = 'https://thehimalayantimes.com/world/indian-farmers-reject-government-offer-and-say-they-will-carry-on-marching-to-new-delhi-28849'\n",
    "\n",
    "url2 = 'https://thehimalayantimes.com/nepal/japanese-to-provide-grant-assistance-for-new-health-post-in-sindhuli'\n",
    "\n",
    "url3 = 'https://thehimalayantimes.com/business/trade-deficit-reaches-rs811-billion-in-first-seven-months'\n",
    "\n",
    "url4 = 'https://thehimalayantimes.com/business/gold-prices-dip-by-rs-400-silver-falls-rs-15-per-tola-in-domestic-market'\n",
    "\n",
    "url5 = 'https://thehimalayantimes.com/nepal/president-paudel-to-inaugurate-5555-kg-bell-in-panchakot'"
   ]
  },
  {
   "cell_type": "code",
   "execution_count": 3,
   "metadata": {},
   "outputs": [],
   "source": [
    "response = requests.get(url1)\n",
    "soup = BeautifulSoup(response.text, 'html.parser')"
   ]
  },
  {
   "cell_type": "code",
   "execution_count": 4,
   "metadata": {},
   "outputs": [],
   "source": [
    "header = soup.find('h1', class_='alith_post_title')"
   ]
  },
  {
   "cell_type": "code",
   "execution_count": 5,
   "metadata": {},
   "outputs": [
    {
     "data": {
      "text/plain": [
       "'\\n            Indian farmers reject government offer and say they will carry on marching to New Delhi\\n        '"
      ]
     },
     "execution_count": 5,
     "metadata": {},
     "output_type": "execute_result"
    }
   ],
   "source": [
    "header.get_text()"
   ]
  },
  {
   "cell_type": "code",
   "execution_count": 6,
   "metadata": {},
   "outputs": [],
   "source": [
    "article = soup.find('div', class_='dropcap column-1 animate-box').find_all('p')\n",
    "article = (' ').join([article[i].get_text() for i in range(1, len(article))])"
   ]
  },
  {
   "cell_type": "markdown",
   "metadata": {},
   "source": [
    "___"
   ]
  },
  {
   "cell_type": "code",
   "execution_count": 7,
   "metadata": {},
   "outputs": [],
   "source": [
    "import spacy\n",
    "from spacy import displacy\n",
    "\n",
    "nlp = spacy.load(\"en_core_web_trf\")"
   ]
  },
  {
   "cell_type": "code",
   "execution_count": 8,
   "metadata": {},
   "outputs": [
    {
     "data": {
      "text/plain": [
       "['Indian farmers who have been protesting for a week to demand guaranteed crop prices have rejected a proposal from the government, and say they will continue their march to the capital New Delhi.',\n",
       " \"The protesting farmers began their march last week, but their efforts to reach the city have been blocked by authorities, who have barricaded highways into the capital with cement blocks, metal containers, barbed wire and iron spikes to barricade highways to the capital to avoid a repeat of the 2021 farmers' protests, during which they camped in the city's outskirts for over a year.\",\n",
       " 'The farmers are seeking a law that would guarantee minimum prices for 23 crops.',\n",
       " \"Late Monday night, farm leaders said they refused the government's offer of a five-year contract for guaranteed prices for five crops, including pulses, maize and cotton.\",\n",
       " 'The government\\'s proposal made Sunday was \"not in the interest of farmers,\" Jagjit Singh Dallewal, one of the leaders of the protest, told the Press Trust of India news agency.',\n",
       " 'He added that the farmers - tens of thousands of whom have been camping out some 200 kilometers (120 miles) from the capital as they waited for the government offer - will resume their march to New Delhi on Wednesday.',\n",
       " '\"We appeal to the government to either resolve our issues or remove barricades and allow us to proceed to Delhi to protest peacefully,\" Dallewal said.',\n",
       " 'The protests renewed a movement that began over two years ago, in which tens of thousands of farmers hunkered down on the edges of New Delhi for over a year against agriculture laws which the government ended up repealing.',\n",
       " 'This time, farmers who rode on tractors from neighboring Haryana and Punjab states say the government has failed to make progress on other key demands from the previous protests.',\n",
       " 'At the heart of the latest protests is the demand for a law that would guarantee minimum prices for their produce.',\n",
       " 'The government protects agricultural producers against sharp falls in farm prices by setting a minimum purchase price for certain essential crops, a system that was introduced in the 1960s to help shore up food reserves and prevent shortages.',\n",
       " 'The system can apply to 23 crops, but the government usually offers the minimum price only for rice and wheat.',\n",
       " 'The farmers say guaranteed minimum support price for all 23 crops would stabilize their incomes.',\n",
       " 'They are also pressing the government to follow through on promises to double their income, waive loans and withdraw legal cases brought against them during the earlier 2021 protests.',\n",
       " 'Several meetings between farm leaders and the government have failed to end the deadlock.',\n",
       " 'Piyush Goyal, one of the ministers negotiating with the farmers, told PTI that some of the demands of the farmers were \"deep and policy-driven,\" which made it more difficult to find a resolution.',\n",
       " \"The protests come at a crucial time for India, where national elections are expected in the coming months and Prime Minister Narendra Modi's party is widely expected to secure a third successive term.\",\n",
       " \"Farmers are particularly important to Modi's base.\",\n",
       " 'Northern Haryana and a few other states with substantial farmer populations are ruled by his Bharatiya Janata Party.']"
      ]
     },
     "execution_count": 8,
     "metadata": {},
     "output_type": "execute_result"
    }
   ],
   "source": [
    "doc = nlp(article)\n",
    "\n",
    "sentences = [sent.text for sent in doc.sents]\n",
    "sentences"
   ]
  },
  {
   "cell_type": "markdown",
   "metadata": {},
   "source": [
    "from nltk.corpus import wordnet\n",
    "\n",
    "def find_synonyms(word):\n",
    "    synonyms = set()\n",
    "    for syn in wordnet.synsets(word):\n",
    "        for lemma in syn.lemmas():\n",
    "            synonyms.add(lemma.name())\n",
    "    return synonyms\n",
    "\n",
    "word = \"assistance\"\n",
    "synonyms = find_synonyms(word)\n",
    "print(f\"Synonyms of '{word}': {synonyms}\")"
   ]
  },
  {
   "cell_type": "code",
   "execution_count": 9,
   "metadata": {},
   "outputs": [],
   "source": [
    "def find_noun_for_pronoun(token):\n",
    "    for ancestor in token.ancestors:\n",
    "        if ancestor.pos_ == 'NOUN':\n",
    "            return ancestor\n",
    "    return None"
   ]
  },
  {
   "cell_type": "code",
   "execution_count": 37,
   "metadata": {},
   "outputs": [],
   "source": [
    "def get_entities(sentences):\n",
    "    # incase sentence is not list but a string\n",
    "    if isinstance(sentences, str):\n",
    "        sentences = [sentences]\n",
    "\n",
    "    # capture all the easy entities\n",
    "    # only captures the one similar to simple sentence, have problem when dealing with complex sentence\n",
    "    entities = {}\n",
    "    for i in range(len(sentences)):\n",
    "        doc = nlp(sentences[i])\n",
    "\n",
    "        for token in doc:\n",
    "            temp = find_noun_for_pronoun(token)\n",
    "\n",
    "            token_head_l = token.head.lemma_\n",
    "            token_l = token.lemma_\n",
    "            \n",
    "            if token.dep_ in ['nsubj', 'nsubjpass'] and token.head.pos_ in ['VERB']:\n",
    "                if temp:\n",
    "                    token_l = temp.lemma_\n",
    "                    # print(token.lemma_, temp.lemma_)\n",
    "                # print(token)\n",
    "\n",
    "                if token_head_l in entities.keys():\n",
    "                    entities[token_head_l] = {**entities[token_head_l],**{token_l : token.dep_}}\n",
    "                else:    \n",
    "                    entities[token_head_l] = {token_l : token.dep_}\n",
    "\n",
    "            elif token.dep_ in ['dobj','pobj'] and token.head.pos_ in ['VERB']:\n",
    "                if token_head_l in entities.keys():\n",
    "                    entities[token_head_l] = {**entities[token_head_l],**{token_l : token.dep_}}\n",
    "                else:    \n",
    "                    entities[token_head_l] = {token_l : token.dep_}\n",
    "\n",
    "        entities = {k:v for k, v in entities.items() if len(entities[k].keys())>1}\n",
    "        {entities[k].popitem() for k in entities.keys() if len(entities[k])%2!=0}\n",
    "    \n",
    "    return entities"
   ]
  },
  {
   "cell_type": "code",
   "execution_count": 38,
   "metadata": {},
   "outputs": [
    {
     "data": {
      "text/plain": [
       "{'reject': {'farmer': 'nsubj', 'proposal': 'dobj'},\n",
       " 'continue': {'they': 'nsubj', 'march': 'dobj'},\n",
       " 'begin': {'farmer': 'nsubj', 'march': 'dobj'},\n",
       " 'barricade': {'authority': 'nsubj', 'highway': 'dobj'},\n",
       " 'seek': {'farmer': 'nsubj', 'law': 'dobj'},\n",
       " 'guarantee': {'law': 'nsubj', 'price': 'dobj'},\n",
       " 'refuse': {'they': 'nsubj', 'offer': 'dobj'},\n",
       " 'tell': {'Dallewal': 'nsubj',\n",
       "  'agency': 'dobj',\n",
       "  'Goyal': 'nsubj',\n",
       "  'PTI': 'dobj'},\n",
       " 'resume': {'farmer': 'nsubj', 'march': 'dobj'},\n",
       " 'renew': {'protest': 'nsubj', 'movement': 'dobj'},\n",
       " 'protect': {'government': 'nsubj', 'producer': 'dobj'},\n",
       " 'offer': {'government': 'nsubj', 'price': 'dobj'},\n",
       " 'stabilize': {'price': 'nsubj', 'income': 'dobj'},\n",
       " 'press': {'they': 'nsubj', 'government': 'dobj'}}"
      ]
     },
     "execution_count": 38,
     "metadata": {},
     "output_type": "execute_result"
    }
   ],
   "source": [
    "entities = get_entities(sentences)\n",
    "entities"
   ]
  },
  {
   "cell_type": "markdown",
   "metadata": {},
   "source": [
    "___\n",
    "\n",
    "# Finding Another way (complex)"
   ]
  },
  {
   "cell_type": "code",
   "execution_count": 35,
   "metadata": {},
   "outputs": [
    {
     "data": {
      "text/html": [
       "<span class=\"tex2jax_ignore\"><svg xmlns=\"http://www.w3.org/2000/svg\" xmlns:xlink=\"http://www.w3.org/1999/xlink\" xml:lang=\"en\" id=\"56e2ee2852eb45d7ae9924fa7eb6d3ff-0\" class=\"displacy\" width=\"5000\" height=\"512.0\" direction=\"ltr\" style=\"max-width: none; height: 512.0px; color: #000000; background: #ffffff; font-family: Arial; direction: ltr\">\n",
       "<text class=\"displacy-token\" fill=\"currentColor\" text-anchor=\"middle\" y=\"422.0\">\n",
       "    <tspan class=\"displacy-word\" fill=\"currentColor\" x=\"50\">Indian</tspan>\n",
       "    <tspan class=\"displacy-tag\" dy=\"2em\" fill=\"currentColor\" x=\"50\">ADJ</tspan>\n",
       "</text>\n",
       "\n",
       "<text class=\"displacy-token\" fill=\"currentColor\" text-anchor=\"middle\" y=\"422.0\">\n",
       "    <tspan class=\"displacy-word\" fill=\"currentColor\" x=\"200\">farmers</tspan>\n",
       "    <tspan class=\"displacy-tag\" dy=\"2em\" fill=\"currentColor\" x=\"200\">NOUN</tspan>\n",
       "</text>\n",
       "\n",
       "<text class=\"displacy-token\" fill=\"currentColor\" text-anchor=\"middle\" y=\"422.0\">\n",
       "    <tspan class=\"displacy-word\" fill=\"currentColor\" x=\"350\">who</tspan>\n",
       "    <tspan class=\"displacy-tag\" dy=\"2em\" fill=\"currentColor\" x=\"350\">PRON</tspan>\n",
       "</text>\n",
       "\n",
       "<text class=\"displacy-token\" fill=\"currentColor\" text-anchor=\"middle\" y=\"422.0\">\n",
       "    <tspan class=\"displacy-word\" fill=\"currentColor\" x=\"500\">have</tspan>\n",
       "    <tspan class=\"displacy-tag\" dy=\"2em\" fill=\"currentColor\" x=\"500\">AUX</tspan>\n",
       "</text>\n",
       "\n",
       "<text class=\"displacy-token\" fill=\"currentColor\" text-anchor=\"middle\" y=\"422.0\">\n",
       "    <tspan class=\"displacy-word\" fill=\"currentColor\" x=\"650\">been</tspan>\n",
       "    <tspan class=\"displacy-tag\" dy=\"2em\" fill=\"currentColor\" x=\"650\">AUX</tspan>\n",
       "</text>\n",
       "\n",
       "<text class=\"displacy-token\" fill=\"currentColor\" text-anchor=\"middle\" y=\"422.0\">\n",
       "    <tspan class=\"displacy-word\" fill=\"currentColor\" x=\"800\">protesting</tspan>\n",
       "    <tspan class=\"displacy-tag\" dy=\"2em\" fill=\"currentColor\" x=\"800\">VERB</tspan>\n",
       "</text>\n",
       "\n",
       "<text class=\"displacy-token\" fill=\"currentColor\" text-anchor=\"middle\" y=\"422.0\">\n",
       "    <tspan class=\"displacy-word\" fill=\"currentColor\" x=\"950\">for</tspan>\n",
       "    <tspan class=\"displacy-tag\" dy=\"2em\" fill=\"currentColor\" x=\"950\">ADP</tspan>\n",
       "</text>\n",
       "\n",
       "<text class=\"displacy-token\" fill=\"currentColor\" text-anchor=\"middle\" y=\"422.0\">\n",
       "    <tspan class=\"displacy-word\" fill=\"currentColor\" x=\"1100\">a</tspan>\n",
       "    <tspan class=\"displacy-tag\" dy=\"2em\" fill=\"currentColor\" x=\"1100\">DET</tspan>\n",
       "</text>\n",
       "\n",
       "<text class=\"displacy-token\" fill=\"currentColor\" text-anchor=\"middle\" y=\"422.0\">\n",
       "    <tspan class=\"displacy-word\" fill=\"currentColor\" x=\"1250\">week</tspan>\n",
       "    <tspan class=\"displacy-tag\" dy=\"2em\" fill=\"currentColor\" x=\"1250\">NOUN</tspan>\n",
       "</text>\n",
       "\n",
       "<text class=\"displacy-token\" fill=\"currentColor\" text-anchor=\"middle\" y=\"422.0\">\n",
       "    <tspan class=\"displacy-word\" fill=\"currentColor\" x=\"1400\">to</tspan>\n",
       "    <tspan class=\"displacy-tag\" dy=\"2em\" fill=\"currentColor\" x=\"1400\">PART</tspan>\n",
       "</text>\n",
       "\n",
       "<text class=\"displacy-token\" fill=\"currentColor\" text-anchor=\"middle\" y=\"422.0\">\n",
       "    <tspan class=\"displacy-word\" fill=\"currentColor\" x=\"1550\">demand</tspan>\n",
       "    <tspan class=\"displacy-tag\" dy=\"2em\" fill=\"currentColor\" x=\"1550\">VERB</tspan>\n",
       "</text>\n",
       "\n",
       "<text class=\"displacy-token\" fill=\"currentColor\" text-anchor=\"middle\" y=\"422.0\">\n",
       "    <tspan class=\"displacy-word\" fill=\"currentColor\" x=\"1700\">guaranteed</tspan>\n",
       "    <tspan class=\"displacy-tag\" dy=\"2em\" fill=\"currentColor\" x=\"1700\">VERB</tspan>\n",
       "</text>\n",
       "\n",
       "<text class=\"displacy-token\" fill=\"currentColor\" text-anchor=\"middle\" y=\"422.0\">\n",
       "    <tspan class=\"displacy-word\" fill=\"currentColor\" x=\"1850\">crop</tspan>\n",
       "    <tspan class=\"displacy-tag\" dy=\"2em\" fill=\"currentColor\" x=\"1850\">NOUN</tspan>\n",
       "</text>\n",
       "\n",
       "<text class=\"displacy-token\" fill=\"currentColor\" text-anchor=\"middle\" y=\"422.0\">\n",
       "    <tspan class=\"displacy-word\" fill=\"currentColor\" x=\"2000\">prices</tspan>\n",
       "    <tspan class=\"displacy-tag\" dy=\"2em\" fill=\"currentColor\" x=\"2000\">NOUN</tspan>\n",
       "</text>\n",
       "\n",
       "<text class=\"displacy-token\" fill=\"currentColor\" text-anchor=\"middle\" y=\"422.0\">\n",
       "    <tspan class=\"displacy-word\" fill=\"currentColor\" x=\"2150\">have</tspan>\n",
       "    <tspan class=\"displacy-tag\" dy=\"2em\" fill=\"currentColor\" x=\"2150\">AUX</tspan>\n",
       "</text>\n",
       "\n",
       "<text class=\"displacy-token\" fill=\"currentColor\" text-anchor=\"middle\" y=\"422.0\">\n",
       "    <tspan class=\"displacy-word\" fill=\"currentColor\" x=\"2300\">rejected</tspan>\n",
       "    <tspan class=\"displacy-tag\" dy=\"2em\" fill=\"currentColor\" x=\"2300\">VERB</tspan>\n",
       "</text>\n",
       "\n",
       "<text class=\"displacy-token\" fill=\"currentColor\" text-anchor=\"middle\" y=\"422.0\">\n",
       "    <tspan class=\"displacy-word\" fill=\"currentColor\" x=\"2450\">a</tspan>\n",
       "    <tspan class=\"displacy-tag\" dy=\"2em\" fill=\"currentColor\" x=\"2450\">DET</tspan>\n",
       "</text>\n",
       "\n",
       "<text class=\"displacy-token\" fill=\"currentColor\" text-anchor=\"middle\" y=\"422.0\">\n",
       "    <tspan class=\"displacy-word\" fill=\"currentColor\" x=\"2600\">proposal</tspan>\n",
       "    <tspan class=\"displacy-tag\" dy=\"2em\" fill=\"currentColor\" x=\"2600\">NOUN</tspan>\n",
       "</text>\n",
       "\n",
       "<text class=\"displacy-token\" fill=\"currentColor\" text-anchor=\"middle\" y=\"422.0\">\n",
       "    <tspan class=\"displacy-word\" fill=\"currentColor\" x=\"2750\">from</tspan>\n",
       "    <tspan class=\"displacy-tag\" dy=\"2em\" fill=\"currentColor\" x=\"2750\">ADP</tspan>\n",
       "</text>\n",
       "\n",
       "<text class=\"displacy-token\" fill=\"currentColor\" text-anchor=\"middle\" y=\"422.0\">\n",
       "    <tspan class=\"displacy-word\" fill=\"currentColor\" x=\"2900\">the</tspan>\n",
       "    <tspan class=\"displacy-tag\" dy=\"2em\" fill=\"currentColor\" x=\"2900\">DET</tspan>\n",
       "</text>\n",
       "\n",
       "<text class=\"displacy-token\" fill=\"currentColor\" text-anchor=\"middle\" y=\"422.0\">\n",
       "    <tspan class=\"displacy-word\" fill=\"currentColor\" x=\"3050\">government,</tspan>\n",
       "    <tspan class=\"displacy-tag\" dy=\"2em\" fill=\"currentColor\" x=\"3050\">NOUN</tspan>\n",
       "</text>\n",
       "\n",
       "<text class=\"displacy-token\" fill=\"currentColor\" text-anchor=\"middle\" y=\"422.0\">\n",
       "    <tspan class=\"displacy-word\" fill=\"currentColor\" x=\"3200\">and</tspan>\n",
       "    <tspan class=\"displacy-tag\" dy=\"2em\" fill=\"currentColor\" x=\"3200\">CCONJ</tspan>\n",
       "</text>\n",
       "\n",
       "<text class=\"displacy-token\" fill=\"currentColor\" text-anchor=\"middle\" y=\"422.0\">\n",
       "    <tspan class=\"displacy-word\" fill=\"currentColor\" x=\"3350\">say</tspan>\n",
       "    <tspan class=\"displacy-tag\" dy=\"2em\" fill=\"currentColor\" x=\"3350\">VERB</tspan>\n",
       "</text>\n",
       "\n",
       "<text class=\"displacy-token\" fill=\"currentColor\" text-anchor=\"middle\" y=\"422.0\">\n",
       "    <tspan class=\"displacy-word\" fill=\"currentColor\" x=\"3500\">they</tspan>\n",
       "    <tspan class=\"displacy-tag\" dy=\"2em\" fill=\"currentColor\" x=\"3500\">PRON</tspan>\n",
       "</text>\n",
       "\n",
       "<text class=\"displacy-token\" fill=\"currentColor\" text-anchor=\"middle\" y=\"422.0\">\n",
       "    <tspan class=\"displacy-word\" fill=\"currentColor\" x=\"3650\">will</tspan>\n",
       "    <tspan class=\"displacy-tag\" dy=\"2em\" fill=\"currentColor\" x=\"3650\">AUX</tspan>\n",
       "</text>\n",
       "\n",
       "<text class=\"displacy-token\" fill=\"currentColor\" text-anchor=\"middle\" y=\"422.0\">\n",
       "    <tspan class=\"displacy-word\" fill=\"currentColor\" x=\"3800\">continue</tspan>\n",
       "    <tspan class=\"displacy-tag\" dy=\"2em\" fill=\"currentColor\" x=\"3800\">VERB</tspan>\n",
       "</text>\n",
       "\n",
       "<text class=\"displacy-token\" fill=\"currentColor\" text-anchor=\"middle\" y=\"422.0\">\n",
       "    <tspan class=\"displacy-word\" fill=\"currentColor\" x=\"3950\">their</tspan>\n",
       "    <tspan class=\"displacy-tag\" dy=\"2em\" fill=\"currentColor\" x=\"3950\">PRON</tspan>\n",
       "</text>\n",
       "\n",
       "<text class=\"displacy-token\" fill=\"currentColor\" text-anchor=\"middle\" y=\"422.0\">\n",
       "    <tspan class=\"displacy-word\" fill=\"currentColor\" x=\"4100\">march</tspan>\n",
       "    <tspan class=\"displacy-tag\" dy=\"2em\" fill=\"currentColor\" x=\"4100\">NOUN</tspan>\n",
       "</text>\n",
       "\n",
       "<text class=\"displacy-token\" fill=\"currentColor\" text-anchor=\"middle\" y=\"422.0\">\n",
       "    <tspan class=\"displacy-word\" fill=\"currentColor\" x=\"4250\">to</tspan>\n",
       "    <tspan class=\"displacy-tag\" dy=\"2em\" fill=\"currentColor\" x=\"4250\">ADP</tspan>\n",
       "</text>\n",
       "\n",
       "<text class=\"displacy-token\" fill=\"currentColor\" text-anchor=\"middle\" y=\"422.0\">\n",
       "    <tspan class=\"displacy-word\" fill=\"currentColor\" x=\"4400\">the</tspan>\n",
       "    <tspan class=\"displacy-tag\" dy=\"2em\" fill=\"currentColor\" x=\"4400\">DET</tspan>\n",
       "</text>\n",
       "\n",
       "<text class=\"displacy-token\" fill=\"currentColor\" text-anchor=\"middle\" y=\"422.0\">\n",
       "    <tspan class=\"displacy-word\" fill=\"currentColor\" x=\"4550\">capital</tspan>\n",
       "    <tspan class=\"displacy-tag\" dy=\"2em\" fill=\"currentColor\" x=\"4550\">NOUN</tspan>\n",
       "</text>\n",
       "\n",
       "<text class=\"displacy-token\" fill=\"currentColor\" text-anchor=\"middle\" y=\"422.0\">\n",
       "    <tspan class=\"displacy-word\" fill=\"currentColor\" x=\"4700\">New</tspan>\n",
       "    <tspan class=\"displacy-tag\" dy=\"2em\" fill=\"currentColor\" x=\"4700\">PROPN</tspan>\n",
       "</text>\n",
       "\n",
       "<text class=\"displacy-token\" fill=\"currentColor\" text-anchor=\"middle\" y=\"422.0\">\n",
       "    <tspan class=\"displacy-word\" fill=\"currentColor\" x=\"4850\">Delhi.</tspan>\n",
       "    <tspan class=\"displacy-tag\" dy=\"2em\" fill=\"currentColor\" x=\"4850\">PROPN</tspan>\n",
       "</text>\n",
       "\n",
       "<g class=\"displacy-arrow\">\n",
       "    <path class=\"displacy-arc\" id=\"arrow-56e2ee2852eb45d7ae9924fa7eb6d3ff-0-0\" stroke-width=\"2px\" d=\"M70,377.0 C70,302.0 180.0,302.0 180.0,377.0\" fill=\"none\" stroke=\"currentColor\"/>\n",
       "    <text dy=\"1.25em\" style=\"font-size: 0.8em; letter-spacing: 1px\">\n",
       "        <textPath xlink:href=\"#arrow-56e2ee2852eb45d7ae9924fa7eb6d3ff-0-0\" class=\"displacy-label\" startOffset=\"50%\" side=\"left\" fill=\"currentColor\" text-anchor=\"middle\">amod</textPath>\n",
       "    </text>\n",
       "    <path class=\"displacy-arrowhead\" d=\"M70,379.0 L62,367.0 78,367.0\" fill=\"currentColor\"/>\n",
       "</g>\n",
       "\n",
       "<g class=\"displacy-arrow\">\n",
       "    <path class=\"displacy-arc\" id=\"arrow-56e2ee2852eb45d7ae9924fa7eb6d3ff-0-1\" stroke-width=\"2px\" d=\"M220,377.0 C220,2.0 2300.0,2.0 2300.0,377.0\" fill=\"none\" stroke=\"currentColor\"/>\n",
       "    <text dy=\"1.25em\" style=\"font-size: 0.8em; letter-spacing: 1px\">\n",
       "        <textPath xlink:href=\"#arrow-56e2ee2852eb45d7ae9924fa7eb6d3ff-0-1\" class=\"displacy-label\" startOffset=\"50%\" side=\"left\" fill=\"currentColor\" text-anchor=\"middle\">nsubj</textPath>\n",
       "    </text>\n",
       "    <path class=\"displacy-arrowhead\" d=\"M220,379.0 L212,367.0 228,367.0\" fill=\"currentColor\"/>\n",
       "</g>\n",
       "\n",
       "<g class=\"displacy-arrow\">\n",
       "    <path class=\"displacy-arc\" id=\"arrow-56e2ee2852eb45d7ae9924fa7eb6d3ff-0-2\" stroke-width=\"2px\" d=\"M370,377.0 C370,152.0 790.0,152.0 790.0,377.0\" fill=\"none\" stroke=\"currentColor\"/>\n",
       "    <text dy=\"1.25em\" style=\"font-size: 0.8em; letter-spacing: 1px\">\n",
       "        <textPath xlink:href=\"#arrow-56e2ee2852eb45d7ae9924fa7eb6d3ff-0-2\" class=\"displacy-label\" startOffset=\"50%\" side=\"left\" fill=\"currentColor\" text-anchor=\"middle\">nsubj</textPath>\n",
       "    </text>\n",
       "    <path class=\"displacy-arrowhead\" d=\"M370,379.0 L362,367.0 378,367.0\" fill=\"currentColor\"/>\n",
       "</g>\n",
       "\n",
       "<g class=\"displacy-arrow\">\n",
       "    <path class=\"displacy-arc\" id=\"arrow-56e2ee2852eb45d7ae9924fa7eb6d3ff-0-3\" stroke-width=\"2px\" d=\"M520,377.0 C520,227.0 785.0,227.0 785.0,377.0\" fill=\"none\" stroke=\"currentColor\"/>\n",
       "    <text dy=\"1.25em\" style=\"font-size: 0.8em; letter-spacing: 1px\">\n",
       "        <textPath xlink:href=\"#arrow-56e2ee2852eb45d7ae9924fa7eb6d3ff-0-3\" class=\"displacy-label\" startOffset=\"50%\" side=\"left\" fill=\"currentColor\" text-anchor=\"middle\">aux</textPath>\n",
       "    </text>\n",
       "    <path class=\"displacy-arrowhead\" d=\"M520,379.0 L512,367.0 528,367.0\" fill=\"currentColor\"/>\n",
       "</g>\n",
       "\n",
       "<g class=\"displacy-arrow\">\n",
       "    <path class=\"displacy-arc\" id=\"arrow-56e2ee2852eb45d7ae9924fa7eb6d3ff-0-4\" stroke-width=\"2px\" d=\"M670,377.0 C670,302.0 780.0,302.0 780.0,377.0\" fill=\"none\" stroke=\"currentColor\"/>\n",
       "    <text dy=\"1.25em\" style=\"font-size: 0.8em; letter-spacing: 1px\">\n",
       "        <textPath xlink:href=\"#arrow-56e2ee2852eb45d7ae9924fa7eb6d3ff-0-4\" class=\"displacy-label\" startOffset=\"50%\" side=\"left\" fill=\"currentColor\" text-anchor=\"middle\">aux</textPath>\n",
       "    </text>\n",
       "    <path class=\"displacy-arrowhead\" d=\"M670,379.0 L662,367.0 678,367.0\" fill=\"currentColor\"/>\n",
       "</g>\n",
       "\n",
       "<g class=\"displacy-arrow\">\n",
       "    <path class=\"displacy-arc\" id=\"arrow-56e2ee2852eb45d7ae9924fa7eb6d3ff-0-5\" stroke-width=\"2px\" d=\"M220,377.0 C220,77.0 795.0,77.0 795.0,377.0\" fill=\"none\" stroke=\"currentColor\"/>\n",
       "    <text dy=\"1.25em\" style=\"font-size: 0.8em; letter-spacing: 1px\">\n",
       "        <textPath xlink:href=\"#arrow-56e2ee2852eb45d7ae9924fa7eb6d3ff-0-5\" class=\"displacy-label\" startOffset=\"50%\" side=\"left\" fill=\"currentColor\" text-anchor=\"middle\">relcl</textPath>\n",
       "    </text>\n",
       "    <path class=\"displacy-arrowhead\" d=\"M795.0,379.0 L803.0,367.0 787.0,367.0\" fill=\"currentColor\"/>\n",
       "</g>\n",
       "\n",
       "<g class=\"displacy-arrow\">\n",
       "    <path class=\"displacy-arc\" id=\"arrow-56e2ee2852eb45d7ae9924fa7eb6d3ff-0-6\" stroke-width=\"2px\" d=\"M820,377.0 C820,302.0 930.0,302.0 930.0,377.0\" fill=\"none\" stroke=\"currentColor\"/>\n",
       "    <text dy=\"1.25em\" style=\"font-size: 0.8em; letter-spacing: 1px\">\n",
       "        <textPath xlink:href=\"#arrow-56e2ee2852eb45d7ae9924fa7eb6d3ff-0-6\" class=\"displacy-label\" startOffset=\"50%\" side=\"left\" fill=\"currentColor\" text-anchor=\"middle\">prep</textPath>\n",
       "    </text>\n",
       "    <path class=\"displacy-arrowhead\" d=\"M930.0,379.0 L938.0,367.0 922.0,367.0\" fill=\"currentColor\"/>\n",
       "</g>\n",
       "\n",
       "<g class=\"displacy-arrow\">\n",
       "    <path class=\"displacy-arc\" id=\"arrow-56e2ee2852eb45d7ae9924fa7eb6d3ff-0-7\" stroke-width=\"2px\" d=\"M1120,377.0 C1120,302.0 1230.0,302.0 1230.0,377.0\" fill=\"none\" stroke=\"currentColor\"/>\n",
       "    <text dy=\"1.25em\" style=\"font-size: 0.8em; letter-spacing: 1px\">\n",
       "        <textPath xlink:href=\"#arrow-56e2ee2852eb45d7ae9924fa7eb6d3ff-0-7\" class=\"displacy-label\" startOffset=\"50%\" side=\"left\" fill=\"currentColor\" text-anchor=\"middle\">det</textPath>\n",
       "    </text>\n",
       "    <path class=\"displacy-arrowhead\" d=\"M1120,379.0 L1112,367.0 1128,367.0\" fill=\"currentColor\"/>\n",
       "</g>\n",
       "\n",
       "<g class=\"displacy-arrow\">\n",
       "    <path class=\"displacy-arc\" id=\"arrow-56e2ee2852eb45d7ae9924fa7eb6d3ff-0-8\" stroke-width=\"2px\" d=\"M970,377.0 C970,227.0 1235.0,227.0 1235.0,377.0\" fill=\"none\" stroke=\"currentColor\"/>\n",
       "    <text dy=\"1.25em\" style=\"font-size: 0.8em; letter-spacing: 1px\">\n",
       "        <textPath xlink:href=\"#arrow-56e2ee2852eb45d7ae9924fa7eb6d3ff-0-8\" class=\"displacy-label\" startOffset=\"50%\" side=\"left\" fill=\"currentColor\" text-anchor=\"middle\">pobj</textPath>\n",
       "    </text>\n",
       "    <path class=\"displacy-arrowhead\" d=\"M1235.0,379.0 L1243.0,367.0 1227.0,367.0\" fill=\"currentColor\"/>\n",
       "</g>\n",
       "\n",
       "<g class=\"displacy-arrow\">\n",
       "    <path class=\"displacy-arc\" id=\"arrow-56e2ee2852eb45d7ae9924fa7eb6d3ff-0-9\" stroke-width=\"2px\" d=\"M1420,377.0 C1420,302.0 1530.0,302.0 1530.0,377.0\" fill=\"none\" stroke=\"currentColor\"/>\n",
       "    <text dy=\"1.25em\" style=\"font-size: 0.8em; letter-spacing: 1px\">\n",
       "        <textPath xlink:href=\"#arrow-56e2ee2852eb45d7ae9924fa7eb6d3ff-0-9\" class=\"displacy-label\" startOffset=\"50%\" side=\"left\" fill=\"currentColor\" text-anchor=\"middle\">aux</textPath>\n",
       "    </text>\n",
       "    <path class=\"displacy-arrowhead\" d=\"M1420,379.0 L1412,367.0 1428,367.0\" fill=\"currentColor\"/>\n",
       "</g>\n",
       "\n",
       "<g class=\"displacy-arrow\">\n",
       "    <path class=\"displacy-arc\" id=\"arrow-56e2ee2852eb45d7ae9924fa7eb6d3ff-0-10\" stroke-width=\"2px\" d=\"M820,377.0 C820,152.0 1540.0,152.0 1540.0,377.0\" fill=\"none\" stroke=\"currentColor\"/>\n",
       "    <text dy=\"1.25em\" style=\"font-size: 0.8em; letter-spacing: 1px\">\n",
       "        <textPath xlink:href=\"#arrow-56e2ee2852eb45d7ae9924fa7eb6d3ff-0-10\" class=\"displacy-label\" startOffset=\"50%\" side=\"left\" fill=\"currentColor\" text-anchor=\"middle\">advcl</textPath>\n",
       "    </text>\n",
       "    <path class=\"displacy-arrowhead\" d=\"M1540.0,379.0 L1548.0,367.0 1532.0,367.0\" fill=\"currentColor\"/>\n",
       "</g>\n",
       "\n",
       "<g class=\"displacy-arrow\">\n",
       "    <path class=\"displacy-arc\" id=\"arrow-56e2ee2852eb45d7ae9924fa7eb6d3ff-0-11\" stroke-width=\"2px\" d=\"M1720,377.0 C1720,227.0 1985.0,227.0 1985.0,377.0\" fill=\"none\" stroke=\"currentColor\"/>\n",
       "    <text dy=\"1.25em\" style=\"font-size: 0.8em; letter-spacing: 1px\">\n",
       "        <textPath xlink:href=\"#arrow-56e2ee2852eb45d7ae9924fa7eb6d3ff-0-11\" class=\"displacy-label\" startOffset=\"50%\" side=\"left\" fill=\"currentColor\" text-anchor=\"middle\">amod</textPath>\n",
       "    </text>\n",
       "    <path class=\"displacy-arrowhead\" d=\"M1720,379.0 L1712,367.0 1728,367.0\" fill=\"currentColor\"/>\n",
       "</g>\n",
       "\n",
       "<g class=\"displacy-arrow\">\n",
       "    <path class=\"displacy-arc\" id=\"arrow-56e2ee2852eb45d7ae9924fa7eb6d3ff-0-12\" stroke-width=\"2px\" d=\"M1870,377.0 C1870,302.0 1980.0,302.0 1980.0,377.0\" fill=\"none\" stroke=\"currentColor\"/>\n",
       "    <text dy=\"1.25em\" style=\"font-size: 0.8em; letter-spacing: 1px\">\n",
       "        <textPath xlink:href=\"#arrow-56e2ee2852eb45d7ae9924fa7eb6d3ff-0-12\" class=\"displacy-label\" startOffset=\"50%\" side=\"left\" fill=\"currentColor\" text-anchor=\"middle\">compound</textPath>\n",
       "    </text>\n",
       "    <path class=\"displacy-arrowhead\" d=\"M1870,379.0 L1862,367.0 1878,367.0\" fill=\"currentColor\"/>\n",
       "</g>\n",
       "\n",
       "<g class=\"displacy-arrow\">\n",
       "    <path class=\"displacy-arc\" id=\"arrow-56e2ee2852eb45d7ae9924fa7eb6d3ff-0-13\" stroke-width=\"2px\" d=\"M1570,377.0 C1570,152.0 1990.0,152.0 1990.0,377.0\" fill=\"none\" stroke=\"currentColor\"/>\n",
       "    <text dy=\"1.25em\" style=\"font-size: 0.8em; letter-spacing: 1px\">\n",
       "        <textPath xlink:href=\"#arrow-56e2ee2852eb45d7ae9924fa7eb6d3ff-0-13\" class=\"displacy-label\" startOffset=\"50%\" side=\"left\" fill=\"currentColor\" text-anchor=\"middle\">dobj</textPath>\n",
       "    </text>\n",
       "    <path class=\"displacy-arrowhead\" d=\"M1990.0,379.0 L1998.0,367.0 1982.0,367.0\" fill=\"currentColor\"/>\n",
       "</g>\n",
       "\n",
       "<g class=\"displacy-arrow\">\n",
       "    <path class=\"displacy-arc\" id=\"arrow-56e2ee2852eb45d7ae9924fa7eb6d3ff-0-14\" stroke-width=\"2px\" d=\"M2170,377.0 C2170,302.0 2280.0,302.0 2280.0,377.0\" fill=\"none\" stroke=\"currentColor\"/>\n",
       "    <text dy=\"1.25em\" style=\"font-size: 0.8em; letter-spacing: 1px\">\n",
       "        <textPath xlink:href=\"#arrow-56e2ee2852eb45d7ae9924fa7eb6d3ff-0-14\" class=\"displacy-label\" startOffset=\"50%\" side=\"left\" fill=\"currentColor\" text-anchor=\"middle\">aux</textPath>\n",
       "    </text>\n",
       "    <path class=\"displacy-arrowhead\" d=\"M2170,379.0 L2162,367.0 2178,367.0\" fill=\"currentColor\"/>\n",
       "</g>\n",
       "\n",
       "<g class=\"displacy-arrow\">\n",
       "    <path class=\"displacy-arc\" id=\"arrow-56e2ee2852eb45d7ae9924fa7eb6d3ff-0-15\" stroke-width=\"2px\" d=\"M2470,377.0 C2470,302.0 2580.0,302.0 2580.0,377.0\" fill=\"none\" stroke=\"currentColor\"/>\n",
       "    <text dy=\"1.25em\" style=\"font-size: 0.8em; letter-spacing: 1px\">\n",
       "        <textPath xlink:href=\"#arrow-56e2ee2852eb45d7ae9924fa7eb6d3ff-0-15\" class=\"displacy-label\" startOffset=\"50%\" side=\"left\" fill=\"currentColor\" text-anchor=\"middle\">det</textPath>\n",
       "    </text>\n",
       "    <path class=\"displacy-arrowhead\" d=\"M2470,379.0 L2462,367.0 2478,367.0\" fill=\"currentColor\"/>\n",
       "</g>\n",
       "\n",
       "<g class=\"displacy-arrow\">\n",
       "    <path class=\"displacy-arc\" id=\"arrow-56e2ee2852eb45d7ae9924fa7eb6d3ff-0-16\" stroke-width=\"2px\" d=\"M2320,377.0 C2320,227.0 2585.0,227.0 2585.0,377.0\" fill=\"none\" stroke=\"currentColor\"/>\n",
       "    <text dy=\"1.25em\" style=\"font-size: 0.8em; letter-spacing: 1px\">\n",
       "        <textPath xlink:href=\"#arrow-56e2ee2852eb45d7ae9924fa7eb6d3ff-0-16\" class=\"displacy-label\" startOffset=\"50%\" side=\"left\" fill=\"currentColor\" text-anchor=\"middle\">dobj</textPath>\n",
       "    </text>\n",
       "    <path class=\"displacy-arrowhead\" d=\"M2585.0,379.0 L2593.0,367.0 2577.0,367.0\" fill=\"currentColor\"/>\n",
       "</g>\n",
       "\n",
       "<g class=\"displacy-arrow\">\n",
       "    <path class=\"displacy-arc\" id=\"arrow-56e2ee2852eb45d7ae9924fa7eb6d3ff-0-17\" stroke-width=\"2px\" d=\"M2620,377.0 C2620,302.0 2730.0,302.0 2730.0,377.0\" fill=\"none\" stroke=\"currentColor\"/>\n",
       "    <text dy=\"1.25em\" style=\"font-size: 0.8em; letter-spacing: 1px\">\n",
       "        <textPath xlink:href=\"#arrow-56e2ee2852eb45d7ae9924fa7eb6d3ff-0-17\" class=\"displacy-label\" startOffset=\"50%\" side=\"left\" fill=\"currentColor\" text-anchor=\"middle\">prep</textPath>\n",
       "    </text>\n",
       "    <path class=\"displacy-arrowhead\" d=\"M2730.0,379.0 L2738.0,367.0 2722.0,367.0\" fill=\"currentColor\"/>\n",
       "</g>\n",
       "\n",
       "<g class=\"displacy-arrow\">\n",
       "    <path class=\"displacy-arc\" id=\"arrow-56e2ee2852eb45d7ae9924fa7eb6d3ff-0-18\" stroke-width=\"2px\" d=\"M2920,377.0 C2920,302.0 3030.0,302.0 3030.0,377.0\" fill=\"none\" stroke=\"currentColor\"/>\n",
       "    <text dy=\"1.25em\" style=\"font-size: 0.8em; letter-spacing: 1px\">\n",
       "        <textPath xlink:href=\"#arrow-56e2ee2852eb45d7ae9924fa7eb6d3ff-0-18\" class=\"displacy-label\" startOffset=\"50%\" side=\"left\" fill=\"currentColor\" text-anchor=\"middle\">det</textPath>\n",
       "    </text>\n",
       "    <path class=\"displacy-arrowhead\" d=\"M2920,379.0 L2912,367.0 2928,367.0\" fill=\"currentColor\"/>\n",
       "</g>\n",
       "\n",
       "<g class=\"displacy-arrow\">\n",
       "    <path class=\"displacy-arc\" id=\"arrow-56e2ee2852eb45d7ae9924fa7eb6d3ff-0-19\" stroke-width=\"2px\" d=\"M2770,377.0 C2770,227.0 3035.0,227.0 3035.0,377.0\" fill=\"none\" stroke=\"currentColor\"/>\n",
       "    <text dy=\"1.25em\" style=\"font-size: 0.8em; letter-spacing: 1px\">\n",
       "        <textPath xlink:href=\"#arrow-56e2ee2852eb45d7ae9924fa7eb6d3ff-0-19\" class=\"displacy-label\" startOffset=\"50%\" side=\"left\" fill=\"currentColor\" text-anchor=\"middle\">pobj</textPath>\n",
       "    </text>\n",
       "    <path class=\"displacy-arrowhead\" d=\"M3035.0,379.0 L3043.0,367.0 3027.0,367.0\" fill=\"currentColor\"/>\n",
       "</g>\n",
       "\n",
       "<g class=\"displacy-arrow\">\n",
       "    <path class=\"displacy-arc\" id=\"arrow-56e2ee2852eb45d7ae9924fa7eb6d3ff-0-20\" stroke-width=\"2px\" d=\"M2320,377.0 C2320,152.0 3190.0,152.0 3190.0,377.0\" fill=\"none\" stroke=\"currentColor\"/>\n",
       "    <text dy=\"1.25em\" style=\"font-size: 0.8em; letter-spacing: 1px\">\n",
       "        <textPath xlink:href=\"#arrow-56e2ee2852eb45d7ae9924fa7eb6d3ff-0-20\" class=\"displacy-label\" startOffset=\"50%\" side=\"left\" fill=\"currentColor\" text-anchor=\"middle\">cc</textPath>\n",
       "    </text>\n",
       "    <path class=\"displacy-arrowhead\" d=\"M3190.0,379.0 L3198.0,367.0 3182.0,367.0\" fill=\"currentColor\"/>\n",
       "</g>\n",
       "\n",
       "<g class=\"displacy-arrow\">\n",
       "    <path class=\"displacy-arc\" id=\"arrow-56e2ee2852eb45d7ae9924fa7eb6d3ff-0-21\" stroke-width=\"2px\" d=\"M2320,377.0 C2320,77.0 3345.0,77.0 3345.0,377.0\" fill=\"none\" stroke=\"currentColor\"/>\n",
       "    <text dy=\"1.25em\" style=\"font-size: 0.8em; letter-spacing: 1px\">\n",
       "        <textPath xlink:href=\"#arrow-56e2ee2852eb45d7ae9924fa7eb6d3ff-0-21\" class=\"displacy-label\" startOffset=\"50%\" side=\"left\" fill=\"currentColor\" text-anchor=\"middle\">conj</textPath>\n",
       "    </text>\n",
       "    <path class=\"displacy-arrowhead\" d=\"M3345.0,379.0 L3353.0,367.0 3337.0,367.0\" fill=\"currentColor\"/>\n",
       "</g>\n",
       "\n",
       "<g class=\"displacy-arrow\">\n",
       "    <path class=\"displacy-arc\" id=\"arrow-56e2ee2852eb45d7ae9924fa7eb6d3ff-0-22\" stroke-width=\"2px\" d=\"M3520,377.0 C3520,227.0 3785.0,227.0 3785.0,377.0\" fill=\"none\" stroke=\"currentColor\"/>\n",
       "    <text dy=\"1.25em\" style=\"font-size: 0.8em; letter-spacing: 1px\">\n",
       "        <textPath xlink:href=\"#arrow-56e2ee2852eb45d7ae9924fa7eb6d3ff-0-22\" class=\"displacy-label\" startOffset=\"50%\" side=\"left\" fill=\"currentColor\" text-anchor=\"middle\">nsubj</textPath>\n",
       "    </text>\n",
       "    <path class=\"displacy-arrowhead\" d=\"M3520,379.0 L3512,367.0 3528,367.0\" fill=\"currentColor\"/>\n",
       "</g>\n",
       "\n",
       "<g class=\"displacy-arrow\">\n",
       "    <path class=\"displacy-arc\" id=\"arrow-56e2ee2852eb45d7ae9924fa7eb6d3ff-0-23\" stroke-width=\"2px\" d=\"M3670,377.0 C3670,302.0 3780.0,302.0 3780.0,377.0\" fill=\"none\" stroke=\"currentColor\"/>\n",
       "    <text dy=\"1.25em\" style=\"font-size: 0.8em; letter-spacing: 1px\">\n",
       "        <textPath xlink:href=\"#arrow-56e2ee2852eb45d7ae9924fa7eb6d3ff-0-23\" class=\"displacy-label\" startOffset=\"50%\" side=\"left\" fill=\"currentColor\" text-anchor=\"middle\">aux</textPath>\n",
       "    </text>\n",
       "    <path class=\"displacy-arrowhead\" d=\"M3670,379.0 L3662,367.0 3678,367.0\" fill=\"currentColor\"/>\n",
       "</g>\n",
       "\n",
       "<g class=\"displacy-arrow\">\n",
       "    <path class=\"displacy-arc\" id=\"arrow-56e2ee2852eb45d7ae9924fa7eb6d3ff-0-24\" stroke-width=\"2px\" d=\"M3370,377.0 C3370,152.0 3790.0,152.0 3790.0,377.0\" fill=\"none\" stroke=\"currentColor\"/>\n",
       "    <text dy=\"1.25em\" style=\"font-size: 0.8em; letter-spacing: 1px\">\n",
       "        <textPath xlink:href=\"#arrow-56e2ee2852eb45d7ae9924fa7eb6d3ff-0-24\" class=\"displacy-label\" startOffset=\"50%\" side=\"left\" fill=\"currentColor\" text-anchor=\"middle\">ccomp</textPath>\n",
       "    </text>\n",
       "    <path class=\"displacy-arrowhead\" d=\"M3790.0,379.0 L3798.0,367.0 3782.0,367.0\" fill=\"currentColor\"/>\n",
       "</g>\n",
       "\n",
       "<g class=\"displacy-arrow\">\n",
       "    <path class=\"displacy-arc\" id=\"arrow-56e2ee2852eb45d7ae9924fa7eb6d3ff-0-25\" stroke-width=\"2px\" d=\"M3970,377.0 C3970,302.0 4080.0,302.0 4080.0,377.0\" fill=\"none\" stroke=\"currentColor\"/>\n",
       "    <text dy=\"1.25em\" style=\"font-size: 0.8em; letter-spacing: 1px\">\n",
       "        <textPath xlink:href=\"#arrow-56e2ee2852eb45d7ae9924fa7eb6d3ff-0-25\" class=\"displacy-label\" startOffset=\"50%\" side=\"left\" fill=\"currentColor\" text-anchor=\"middle\">poss</textPath>\n",
       "    </text>\n",
       "    <path class=\"displacy-arrowhead\" d=\"M3970,379.0 L3962,367.0 3978,367.0\" fill=\"currentColor\"/>\n",
       "</g>\n",
       "\n",
       "<g class=\"displacy-arrow\">\n",
       "    <path class=\"displacy-arc\" id=\"arrow-56e2ee2852eb45d7ae9924fa7eb6d3ff-0-26\" stroke-width=\"2px\" d=\"M3820,377.0 C3820,227.0 4085.0,227.0 4085.0,377.0\" fill=\"none\" stroke=\"currentColor\"/>\n",
       "    <text dy=\"1.25em\" style=\"font-size: 0.8em; letter-spacing: 1px\">\n",
       "        <textPath xlink:href=\"#arrow-56e2ee2852eb45d7ae9924fa7eb6d3ff-0-26\" class=\"displacy-label\" startOffset=\"50%\" side=\"left\" fill=\"currentColor\" text-anchor=\"middle\">dobj</textPath>\n",
       "    </text>\n",
       "    <path class=\"displacy-arrowhead\" d=\"M4085.0,379.0 L4093.0,367.0 4077.0,367.0\" fill=\"currentColor\"/>\n",
       "</g>\n",
       "\n",
       "<g class=\"displacy-arrow\">\n",
       "    <path class=\"displacy-arc\" id=\"arrow-56e2ee2852eb45d7ae9924fa7eb6d3ff-0-27\" stroke-width=\"2px\" d=\"M4120,377.0 C4120,302.0 4230.0,302.0 4230.0,377.0\" fill=\"none\" stroke=\"currentColor\"/>\n",
       "    <text dy=\"1.25em\" style=\"font-size: 0.8em; letter-spacing: 1px\">\n",
       "        <textPath xlink:href=\"#arrow-56e2ee2852eb45d7ae9924fa7eb6d3ff-0-27\" class=\"displacy-label\" startOffset=\"50%\" side=\"left\" fill=\"currentColor\" text-anchor=\"middle\">prep</textPath>\n",
       "    </text>\n",
       "    <path class=\"displacy-arrowhead\" d=\"M4230.0,379.0 L4238.0,367.0 4222.0,367.0\" fill=\"currentColor\"/>\n",
       "</g>\n",
       "\n",
       "<g class=\"displacy-arrow\">\n",
       "    <path class=\"displacy-arc\" id=\"arrow-56e2ee2852eb45d7ae9924fa7eb6d3ff-0-28\" stroke-width=\"2px\" d=\"M4420,377.0 C4420,302.0 4530.0,302.0 4530.0,377.0\" fill=\"none\" stroke=\"currentColor\"/>\n",
       "    <text dy=\"1.25em\" style=\"font-size: 0.8em; letter-spacing: 1px\">\n",
       "        <textPath xlink:href=\"#arrow-56e2ee2852eb45d7ae9924fa7eb6d3ff-0-28\" class=\"displacy-label\" startOffset=\"50%\" side=\"left\" fill=\"currentColor\" text-anchor=\"middle\">det</textPath>\n",
       "    </text>\n",
       "    <path class=\"displacy-arrowhead\" d=\"M4420,379.0 L4412,367.0 4428,367.0\" fill=\"currentColor\"/>\n",
       "</g>\n",
       "\n",
       "<g class=\"displacy-arrow\">\n",
       "    <path class=\"displacy-arc\" id=\"arrow-56e2ee2852eb45d7ae9924fa7eb6d3ff-0-29\" stroke-width=\"2px\" d=\"M4270,377.0 C4270,227.0 4535.0,227.0 4535.0,377.0\" fill=\"none\" stroke=\"currentColor\"/>\n",
       "    <text dy=\"1.25em\" style=\"font-size: 0.8em; letter-spacing: 1px\">\n",
       "        <textPath xlink:href=\"#arrow-56e2ee2852eb45d7ae9924fa7eb6d3ff-0-29\" class=\"displacy-label\" startOffset=\"50%\" side=\"left\" fill=\"currentColor\" text-anchor=\"middle\">pobj</textPath>\n",
       "    </text>\n",
       "    <path class=\"displacy-arrowhead\" d=\"M4535.0,379.0 L4543.0,367.0 4527.0,367.0\" fill=\"currentColor\"/>\n",
       "</g>\n",
       "\n",
       "<g class=\"displacy-arrow\">\n",
       "    <path class=\"displacy-arc\" id=\"arrow-56e2ee2852eb45d7ae9924fa7eb6d3ff-0-30\" stroke-width=\"2px\" d=\"M4720,377.0 C4720,302.0 4830.0,302.0 4830.0,377.0\" fill=\"none\" stroke=\"currentColor\"/>\n",
       "    <text dy=\"1.25em\" style=\"font-size: 0.8em; letter-spacing: 1px\">\n",
       "        <textPath xlink:href=\"#arrow-56e2ee2852eb45d7ae9924fa7eb6d3ff-0-30\" class=\"displacy-label\" startOffset=\"50%\" side=\"left\" fill=\"currentColor\" text-anchor=\"middle\">compound</textPath>\n",
       "    </text>\n",
       "    <path class=\"displacy-arrowhead\" d=\"M4720,379.0 L4712,367.0 4728,367.0\" fill=\"currentColor\"/>\n",
       "</g>\n",
       "\n",
       "<g class=\"displacy-arrow\">\n",
       "    <path class=\"displacy-arc\" id=\"arrow-56e2ee2852eb45d7ae9924fa7eb6d3ff-0-31\" stroke-width=\"2px\" d=\"M4570,377.0 C4570,227.0 4835.0,227.0 4835.0,377.0\" fill=\"none\" stroke=\"currentColor\"/>\n",
       "    <text dy=\"1.25em\" style=\"font-size: 0.8em; letter-spacing: 1px\">\n",
       "        <textPath xlink:href=\"#arrow-56e2ee2852eb45d7ae9924fa7eb6d3ff-0-31\" class=\"displacy-label\" startOffset=\"50%\" side=\"left\" fill=\"currentColor\" text-anchor=\"middle\">appos</textPath>\n",
       "    </text>\n",
       "    <path class=\"displacy-arrowhead\" d=\"M4835.0,379.0 L4843.0,367.0 4827.0,367.0\" fill=\"currentColor\"/>\n",
       "</g>\n",
       "</svg></span>"
      ],
      "text/plain": [
       "<IPython.core.display.HTML object>"
      ]
     },
     "metadata": {},
     "output_type": "display_data"
    }
   ],
   "source": [
    "i = 0\n",
    "displacy.render(nlp(sentences[i]), style='dep', jupyter=True, options={'distance': 150})"
   ]
  },
  {
   "cell_type": "code",
   "execution_count": 36,
   "metadata": {},
   "outputs": [
    {
     "name": "stdout",
     "output_type": "stream",
     "text": [
      "[(5, protesting, 'relcl'), (10, demand, 'advcl'), (11, guaranteed, 'amod'), (15, rejected, 'ROOT'), (23, say, 'conj'), (26, continue, 'ccomp')]\n"
     ]
    }
   ],
   "source": [
    "print([(temp_idx, token, token.dep_) for temp_idx, token in enumerate(nlp(sentences[i])) if token.pos_ == 'VERB'])"
   ]
  },
  {
   "cell_type": "code",
   "execution_count": 39,
   "metadata": {},
   "outputs": [
    {
     "data": {
      "text/plain": [
       "protesting"
      ]
     },
     "execution_count": 39,
     "metadata": {},
     "output_type": "execute_result"
    }
   ],
   "source": [
    "idx = 5\n",
    "\n",
    "nlp(sentences[i])[idx]"
   ]
  },
  {
   "cell_type": "code",
   "execution_count": 40,
   "metadata": {},
   "outputs": [
    {
     "name": "stdout",
     "output_type": "stream",
     "text": [
      "[(farmers, 'nsubj'), (rejected, 'ROOT')]\n",
      "farmers nsubj\n",
      "Use rejected's subject\n"
     ]
    }
   ],
   "source": [
    "print([(ancestor, ancestor.dep_) for ancestor in nlp(sentences[i])[idx].ancestors])\n",
    "\n",
    "for ancestor in nlp(sentences[i])[idx].ancestors:\n",
    "    if (ancestor.dep_ in ['dobj', 'nsubj', 'nsubjpass'] and ancestor.pos_ in ['NOUN', 'PROPN']):\n",
    "        print(ancestor, ancestor.dep_)\n",
    "    if ancestor.dep_ == 'ROOT' and ancestor.pos_ == 'VERB':\n",
    "        print(f\"Use {ancestor}'s subject\")"
   ]
  },
  {
   "cell_type": "code",
   "execution_count": 41,
   "metadata": {},
   "outputs": [
    {
     "name": "stdout",
     "output_type": "stream",
     "text": [
      "[(who, 'nsubj'), (have, 'aux'), (been, 'aux'), (for, 'prep'), (demand, 'advcl')]\n",
      "week pobj\n"
     ]
    }
   ],
   "source": [
    "print([(child, child.dep_) for child in nlp(sentences[i])[idx].children])\n",
    "\n",
    "for child in nlp(sentences[i])[idx].children:\n",
    "    if (child.dep_ in ['dobj', 'nsubj', 'nsubjpass'] and child.pos_ in ['NOUN', 'PROPN']):\n",
    "        print(child, child.dep_)\n",
    "    elif child.pos_ == 'ADP':\n",
    "        [print(each, each.dep_) for each in child.children if each.dep_ == 'pobj']"
   ]
  },
  {
   "cell_type": "code",
   "execution_count": 42,
   "metadata": {},
   "outputs": [
    {
     "data": {
      "text/plain": [
       "'auxiliary (passive)'"
      ]
     },
     "execution_count": 42,
     "metadata": {},
     "output_type": "execute_result"
    }
   ],
   "source": [
    "spacy.explain('auxpass')"
   ]
  },
  {
   "cell_type": "markdown",
   "metadata": {},
   "source": [
    "___"
   ]
  },
  {
   "cell_type": "code",
   "execution_count": 43,
   "metadata": {},
   "outputs": [
    {
     "data": {
      "text/plain": [
       "{'reject': {'farmer': 'nsubj', 'proposal': 'dobj'},\n",
       " 'continue': {'they': 'nsubj', 'march': 'dobj'},\n",
       " 'begin': {'farmer': 'nsubj', 'march': 'dobj'},\n",
       " 'barricade': {'authority': 'nsubj', 'highway': 'dobj'},\n",
       " 'seek': {'farmer': 'nsubj', 'law': 'dobj'},\n",
       " 'guarantee': {'law': 'nsubj', 'price': 'dobj'},\n",
       " 'refuse': {'they': 'nsubj', 'offer': 'dobj'},\n",
       " 'tell': {'Dallewal': 'nsubj',\n",
       "  'agency': 'dobj',\n",
       "  'Goyal': 'nsubj',\n",
       "  'PTI': 'dobj'},\n",
       " 'resume': {'farmer': 'nsubj', 'march': 'dobj'},\n",
       " 'renew': {'protest': 'nsubj', 'movement': 'dobj'},\n",
       " 'protect': {'government': 'nsubj', 'producer': 'dobj'},\n",
       " 'offer': {'government': 'nsubj', 'price': 'dobj'},\n",
       " 'stabilize': {'price': 'nsubj', 'income': 'dobj'},\n",
       " 'press': {'they': 'nsubj', 'government': 'dobj'}}"
      ]
     },
     "execution_count": 43,
     "metadata": {},
     "output_type": "execute_result"
    }
   ],
   "source": [
    "entities"
   ]
  },
  {
   "cell_type": "code",
   "execution_count": 44,
   "metadata": {},
   "outputs": [],
   "source": [
    "import networkx as nx\n",
    "import matplotlib.pyplot as plt"
   ]
  },
  {
   "cell_type": "code",
   "execution_count": 45,
   "metadata": {},
   "outputs": [
    {
     "data": {
      "image/png": "[encoded data removed]",
      "text/plain": [
       "<Figure size 640x480 with 1 Axes>"
      ]
     },
     "metadata": {},
     "output_type": "display_data"
    }
   ],
   "source": [
    "G = nx.DiGraph()\n",
    "\n",
    "for edge, nodes in entities.items():\n",
    "    for idx in range(0,len(nodes.keys()),2):\n",
    "        G.add_edge(list(nodes.keys())[idx], list(nodes.keys())[idx+1], label=edge)\n",
    "\n",
    "pos = nx.spring_layout(G, seed=42)\n",
    "nx.draw(G, pos, with_labels=True, font_weight='bold', node_size=900, node_color='skyblue', font_size=8, edge_color='gray', alpha = 0.5)\n",
    "edge_labels = {(n1, n2): G[n1][n2]['label'] for (n1, n2) in G.edges()}\n",
    "nx.draw_networkx_edge_labels(G, pos, edge_labels=edge_labels, font_color='red', alpha=0.9)\n",
    "\n",
    "plt.show()"
   ]
  },
  {
   "cell_type": "markdown",
   "metadata": {},
   "source": [
    "list(G.nodes)"
   ]
  },
  {
   "cell_type": "markdown",
   "metadata": {},
   "source": [
    "list(G.edges)"
   ]
  },
  {
   "cell_type": "markdown",
   "metadata": {},
   "source": [
    "nx.write_graphml(G, 'article4.gz')"
   ]
  },
  {
   "cell_type": "markdown",
   "metadata": {},
   "source": [
    "G = nx.read_graphml('/home/pascal/Documents/Build Graph db/inagurate.gz')"
   ]
  },
  {
   "cell_type": "code",
   "execution_count": null,
   "metadata": {},
   "outputs": [],
   "source": [
    "pos = nx.spring_layout(G, seed=42)\n",
    "nx.draw(G, pos, with_labels=True, font_weight='bold', node_size=900, node_color='skyblue', font_size=8, edge_color='gray', alpha = 0.5)\n",
    "edge_labels = {(n1, n2): G[n1][n2]['label'] for (n1, n2) in G.edges()}\n",
    "nx.draw_networkx_edge_labels(G, pos, edge_labels=edge_labels, font_color='red', alpha=0.9)\n",
    "\n",
    "plt.show()"
   ]
  },
  {
   "cell_type": "code",
   "execution_count": null,
   "metadata": {},
   "outputs": [],
   "source": [
    "temp_sentence = 'What is Japan constructing?'"
   ]
  },
  {
   "cell_type": "code",
   "execution_count": null,
   "metadata": {},
   "outputs": [],
   "source": [
    "search_for_nodes = [token.lemma_ for token in nlp(temp_sentence) if token.pos_ == 'NOUN']\n",
    "search_for_nodes"
   ]
  },
  {
   "cell_type": "code",
   "execution_count": null,
   "metadata": {},
   "outputs": [],
   "source": [
    "match = 0\n",
    "for each_possile_node in search_for_nodes:\n",
    "    if G.has_node(each_possile_node):\n",
    "        match+=1\n",
    "        neighbors_node = list(G.neighbors(each_possile_node))\n",
    "        for each_neighbour_node in neighbors_node:\n",
    "            relationship = G.get_edge_data(each_possile_node, each_neighbour_node)['label']\n",
    "            print(f'{each_possile_node} -> {relationship} -> {each_neighbour_node}')\n",
    "\n",
    "if match == 0:\n",
    "    print(\"No information found in Knowledge Graph\")"
   ]
  },
  {
   "cell_type": "code",
   "execution_count": null,
   "metadata": {},
   "outputs": [],
   "source": [
    "def compound_to_simple(sentence):\n",
    "    doc = nlp(sentence)\n",
    "    \n",
    "    root_token = None\n",
    "    for token in doc:\n",
    "        if (token.dep_ == \"ROOT\"):\n",
    "            root_token = token\n",
    "            \n",
    "    other_verbs = []\n",
    "    for token in doc:\n",
    "        ancestors = list(token.ancestors)\n",
    "        if (token.pos_ == \"VERB\" and len(ancestors) < 3 and token != root_token):\n",
    "            other_verbs.append(token)\n",
    "            \n",
    "    token_spans = []\n",
    "    all_verbs = [root_token] + other_verbs\n",
    "    for other_verb in all_verbs:\n",
    "        first_token_index = len(doc)\n",
    "        last_token_index = 0\n",
    "        this_verb_children = list(other_verb.children)\n",
    "        for child in this_verb_children:\n",
    "            if (child not in all_verbs):\n",
    "                if (child.i < first_token_index):\n",
    "                    first_token_index = child.i\n",
    "                if (child.i > last_token_index):\n",
    "                    last_token_index = child.i\n",
    "        token_spans.append((first_token_index, last_token_index))\n",
    "        \n",
    "    sentence_clauses = []\n",
    "    for token_span in token_spans:\n",
    "        start = token_span[0]\n",
    "        end = token_span[1]\n",
    "        if (start < end):\n",
    "            clause = doc[start:end]\n",
    "            sentence_clauses.append(clause)\n",
    "    sentence_clauses = sorted(sentence_clauses, key=lambda tup: tup[0])\n",
    "    clauses_text = [clause.text for clause in sentence_clauses]\n",
    "    return clauses_text"
   ]
  },
  {
   "cell_type": "code",
   "execution_count": null,
   "metadata": {},
   "outputs": [],
   "source": [
    "import coreferee\n",
    "\n",
    "def coref_resolve(text):\n",
    "    nlp1 = spacy.load('en_core_web_trf')\n",
    "    nlp1.add_pipe('coreferee')\n",
    "    doc1 = nlp1(text)\n",
    "    tok_list = list(token.text for token in doc1)\n",
    "    c = 0\n",
    "    for chain in doc1._.coref_chains:\n",
    "        for mention in chain:\n",
    "            res1 = [doc1._.coref_chains.resolve(doc1[i]) for i in mention]\n",
    "            res = list(filter((None).__ne__, res1))\n",
    "            if len(res) != 0:\n",
    "                if len(res[0]) == 1:\n",
    "                    tok_list[mention[0] + c] = str(res[0][0])\n",
    "                elif len(res[0]) > 1:\n",
    "                    tok_list[mention[0] + c] = str(res[0][0])\n",
    "                    for j in range(1, len(res[0])):\n",
    "                        tok_list.insert(mention[0] + c + j, str(res[0][j]))\n",
    "                        c = c + 1\n",
    "    textres = \" \".join(tok_list)\n",
    "    return textres"
   ]
  },
  {
   "cell_type": "code",
   "execution_count": null,
   "metadata": {},
   "outputs": [],
   "source": [
    "compound_to_simple(sentences[3])"
   ]
  },
  {
   "cell_type": "code",
   "execution_count": null,
   "metadata": {},
   "outputs": [],
   "source": []
  }
 ],
 "metadata": {
  "kernelspec": {
   "display_name": "graph",
   "language": "python",
   "name": "python3"
  },
  "language_info": {
   "codemirror_mode": {
    "name": "ipython",
    "version": 3
   },
   "file_extension": ".py",
   "mimetype": "text/x-python",
   "name": "python",
   "nbconvert_exporter": "python",
   "pygments_lexer": "ipython3",
   "version": "3.12.1"
  }
 },
 "nbformat": 4,
 "nbformat_minor": 2
}
