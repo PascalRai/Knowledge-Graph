{
 "cells": [
  {
   "cell_type": "code",
   "execution_count": 40,
   "metadata": {},
   "outputs": [
    {
     "name": "stderr",
     "output_type": "stream",
     "text": [
      "/tmp/ipykernel_8218/1311602081.py:5: DeprecationWarning: \n",
      "Pyarrow will become a required dependency of pandas in the next major release of pandas (pandas 3.0),\n",
      "(to allow more performant data types, such as the Arrow string type, and better interoperability with other libraries)\n",
      "but was not found to be installed on your system.\n",
      "If this would cause problems for you,\n",
      "please provide us feedback at https://github.com/pandas-dev/pandas/issues/54466\n",
      "        \n",
      "  import pandas as pd\n"
     ]
    }
   ],
   "source": [
    "import requests\n",
    "from bs4 import BeautifulSoup\n",
    "from tqdm import tqdm\n",
    "\n",
    "import pandas as pd"
   ]
  },
  {
   "cell_type": "code",
   "execution_count": 2,
   "metadata": {},
   "outputs": [],
   "source": [
    "response = requests.get('https://thehimalayantimes.com/morearticles/nepal/bagmati')\n",
    "soup = BeautifulSoup(response.text, 'html.parser')"
   ]
  },
  {
   "cell_type": "code",
   "execution_count": 34,
   "metadata": {},
   "outputs": [],
   "source": [
    "urls = [each.find('a')['href'] for each in soup.find_all('div', class_='col-md-9 animate-box fadeInUp animated-fast')]"
   ]
  },
  {
   "cell_type": "code",
   "execution_count": 38,
   "metadata": {},
   "outputs": [
    {
     "name": "stderr",
     "output_type": "stream",
     "text": [
      "100%|██████████| 69/69 [01:28<00:00,  1.28s/it]\n"
     ]
    }
   ],
   "source": [
    "articles = []\n",
    "\n",
    "for url in tqdm(urls):\n",
    "    response = requests.get(url)\n",
    "    soup = BeautifulSoup(response.text, 'html.parser')\n",
    "\n",
    "    article = soup.find('div', class_='dropcap column-1 animate-box').find_all('p')\n",
    "    article = (' ').join([article[i].get_text() for i in range(1, len(article))])\n",
    "    articles.append(article)"
   ]
  },
  {
   "cell_type": "code",
   "execution_count": 46,
   "metadata": {},
   "outputs": [
    {
     "data": {
      "text/html": [
       "<div>\n",
       "<style scoped>\n",
       "    .dataframe tbody tr th:only-of-type {\n",
       "        vertical-align: middle;\n",
       "    }\n",
       "\n",
       "    .dataframe tbody tr th {\n",
       "        vertical-align: top;\n",
       "    }\n",
       "\n",
       "    .dataframe thead th {\n",
       "        text-align: right;\n",
       "    }\n",
       "</style>\n",
       "<table border=\"1\" class=\"dataframe\">\n",
       "  <thead>\n",
       "    <tr style=\"text-align: right;\">\n",
       "      <th></th>\n",
       "      <th>url</th>\n",
       "      <th>article</th>\n",
       "    </tr>\n",
       "  </thead>\n",
       "  <tbody>\n",
       "    <tr>\n",
       "      <th>0</th>\n",
       "      <td>https://thehimalayantimes.com/nepal/second-qua...</td>\n",
       "      <td>A 5.3 magnitude (ML) earthquake was felt acros...</td>\n",
       "    </tr>\n",
       "    <tr>\n",
       "      <th>1</th>\n",
       "      <td>https://thehimalayantimes.com/nepal/rural-muni...</td>\n",
       "      <td>The Commission for the Investigation of Abuse ...</td>\n",
       "    </tr>\n",
       "    <tr>\n",
       "      <th>2</th>\n",
       "      <td>https://thehimalayantimes.com/nepal/nea-cut-po...</td>\n",
       "      <td>Power supply to the Gautam Buddha Internationa...</td>\n",
       "    </tr>\n",
       "    <tr>\n",
       "      <th>3</th>\n",
       "      <td>https://thehimalayantimes.com/nepal/bagmati-pr...</td>\n",
       "      <td>Bagmati Chief Minister Rajendra Prasad Pandey ...</td>\n",
       "    </tr>\n",
       "    <tr>\n",
       "      <th>4</th>\n",
       "      <td>https://thehimalayantimes.com/nepal/10-persons...</td>\n",
       "      <td>Police arrested 10 people with 35 litres of re...</td>\n",
       "    </tr>\n",
       "    <tr>\n",
       "      <th>...</th>\n",
       "      <td>...</td>\n",
       "      <td>...</td>\n",
       "    </tr>\n",
       "    <tr>\n",
       "      <th>64</th>\n",
       "      <td>https://thehimalayantimes.com/nepal/dahal-nepa...</td>\n",
       "      <td>The Nepal Communist Party (NCP) led by Pushpa ...</td>\n",
       "    </tr>\n",
       "    <tr>\n",
       "      <th>65</th>\n",
       "      <td>https://thehimalayantimes.com/nepal/i-have-nev...</td>\n",
       "      <td>Bagmati Province Chief Minister Dormani Poudel...</td>\n",
       "    </tr>\n",
       "    <tr>\n",
       "      <th>66</th>\n",
       "      <td>https://thehimalayantimes.com/nepal/bagmati-pr...</td>\n",
       "      <td>A notice issued by the provincial assembly sec...</td>\n",
       "    </tr>\n",
       "    <tr>\n",
       "      <th>67</th>\n",
       "      <td>https://thehimalayantimes.com/nepal/covid-vacc...</td>\n",
       "      <td>Minister of Health and Population Hridayesh Tr...</td>\n",
       "    </tr>\n",
       "    <tr>\n",
       "      <th>68</th>\n",
       "      <td>https://thehimalayantimes.com/nepal/contempt-o...</td>\n",
       "      <td>Senior Advocate Kumar Sharma Acharya and Advoc...</td>\n",
       "    </tr>\n",
       "  </tbody>\n",
       "</table>\n",
       "<p>69 rows × 2 columns</p>\n",
       "</div>"
      ],
      "text/plain": [
       "                                                  url  \\\n",
       "0   https://thehimalayantimes.com/nepal/second-qua...   \n",
       "1   https://thehimalayantimes.com/nepal/rural-muni...   \n",
       "2   https://thehimalayantimes.com/nepal/nea-cut-po...   \n",
       "3   https://thehimalayantimes.com/nepal/bagmati-pr...   \n",
       "4   https://thehimalayantimes.com/nepal/10-persons...   \n",
       "..                                                ...   \n",
       "64  https://thehimalayantimes.com/nepal/dahal-nepa...   \n",
       "65  https://thehimalayantimes.com/nepal/i-have-nev...   \n",
       "66  https://thehimalayantimes.com/nepal/bagmati-pr...   \n",
       "67  https://thehimalayantimes.com/nepal/covid-vacc...   \n",
       "68  https://thehimalayantimes.com/nepal/contempt-o...   \n",
       "\n",
       "                                              article  \n",
       "0   A 5.3 magnitude (ML) earthquake was felt acros...  \n",
       "1   The Commission for the Investigation of Abuse ...  \n",
       "2   Power supply to the Gautam Buddha Internationa...  \n",
       "3   Bagmati Chief Minister Rajendra Prasad Pandey ...  \n",
       "4   Police arrested 10 people with 35 litres of re...  \n",
       "..                                                ...  \n",
       "64  The Nepal Communist Party (NCP) led by Pushpa ...  \n",
       "65  Bagmati Province Chief Minister Dormani Poudel...  \n",
       "66  A notice issued by the provincial assembly sec...  \n",
       "67  Minister of Health and Population Hridayesh Tr...  \n",
       "68  Senior Advocate Kumar Sharma Acharya and Advoc...  \n",
       "\n",
       "[69 rows x 2 columns]"
      ]
     },
     "execution_count": 46,
     "metadata": {},
     "output_type": "execute_result"
    }
   ],
   "source": [
    "df = pd.DataFrame({'url': urls, 'article':articles})\n",
    "df"
   ]
  },
  {
   "cell_type": "code",
   "execution_count": 50,
   "metadata": {},
   "outputs": [],
   "source": [
    "df.to_csv('data/articles.csv', encoding='utf-8', index = False)"
   ]
  },
  {
   "cell_type": "code",
   "execution_count": null,
   "metadata": {},
   "outputs": [],
   "source": []
  }
 ],
 "metadata": {
  "kernelspec": {
   "display_name": "graph",
   "language": "python",
   "name": "python3"
  },
  "language_info": {
   "codemirror_mode": {
    "name": "ipython",
    "version": 3
   },
   "file_extension": ".py",
   "mimetype": "text/x-python",
   "name": "python",
   "nbconvert_exporter": "python",
   "pygments_lexer": "ipython3",
   "version": "3.12.1"
  }
 },
 "nbformat": 4,
 "nbformat_minor": 2
}
